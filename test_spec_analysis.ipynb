{
 "cells": [
  {
   "cell_type": "markdown",
   "metadata": {},
   "source": [
    "# Test Specs"
   ]
  },
  {
   "cell_type": "code",
   "execution_count": 1,
   "metadata": {},
   "outputs": [],
   "source": [
    "import numpy as np\n",
    "import pandas as pd\n",
    "import matplotlib.pyplot as plt\n",
    "\n",
    "import gs_analysis as ga\n",
    "\n",
    "from scipy.signal import find_peaks, peak_prominences"
   ]
  },
  {
   "cell_type": "markdown",
   "metadata": {},
   "source": [
    "# ATR Sample Spec"
   ]
  },
  {
   "cell_type": "code",
   "execution_count": 3,
   "metadata": {},
   "outputs": [
    {
     "data": {
      "image/png": "[encoded data removed]",
      "text/plain": [
       "<Figure size 432x288 with 1 Axes>"
      ]
     },
     "metadata": {
      "needs_background": "light"
     },
     "output_type": "display_data"
    }
   ],
   "source": [
    "path = \"test_data/atr_sample_1.Spe\"  \n",
    "spec = ga.get_spect(path)\n",
    "spec.ebins = ga.generate_ebins(spec)\n",
    "ga.plot_spec(spec.counts, erg=spec.ebins)"
   ]
  },
  {
   "cell_type": "code",
   "execution_count": 5,
   "metadata": {},
   "outputs": [
    {
     "name": "stdout",
     "output_type": "stream",
     "text": [
      "[ 9646 13555 15395]\n",
      "peak at index 9646 , net counts = 77777.00823045264\n"
     ]
    }
   ],
   "source": [
    "#peak finding\n",
    "smoothed_counts, peaks = ga.peak_finder(spec.counts, 100, 10)\n",
    "print(peaks)\n",
    "\n",
    "\n",
    "#counts\n",
    "peak_index, counts = ga.peak_counts(peaks, 0, smoothed_counts, spec.ebins)\n",
    "print('peak at index', peak_index, ', net counts =', counts)"
   ]
  },
  {
   "cell_type": "code",
   "execution_count": 8,
   "metadata": {},
   "outputs": [
    {
     "name": "stdout",
     "output_type": "stream",
     "text": [
      "peak at index 9646 , net counts = 77777.00823045264\n",
      "peak at index 13555 , net counts = 56148.43209876543\n",
      "peak at index 15395 , net counts = 47968.427983539106\n",
      "peak ebins [ 833.853241 1171.669021 1330.681821]\n",
      "peak counts [77777.00823045 56148.43209877 47968.42798354]\n"
     ]
    }
   ],
   "source": [
    "#trying to iterate for all peaks\n",
    "c_arr = ([])\n",
    "for i in range(len(peaks)):\n",
    "    peak_index, counts = ga.peak_counts(peaks, i, smoothed_counts, spec.ebins)\n",
    "    c_arr = np.append(c_arr, counts)\n",
    "    print('peak at index', peak_index, ', net counts =', counts)\n",
    "    \n",
    "#ebins vals and their corresponding counts\n",
    "print('peak ebins', spec.ebins[peaks])\n",
    "print('peak counts', c_arr)\n"
   ]
  },
  {
   "cell_type": "code",
   "execution_count": 9,
   "metadata": {},
   "outputs": [
    {
     "name": "stdout",
     "output_type": "stream",
     "text": [
      "370.0\n"
     ]
    }
   ],
   "source": [
    "real_time = spec.real_time\n",
    "print(real_time)"
   ]
  },
  {
   "cell_type": "code",
   "execution_count": null,
   "metadata": {},
   "outputs": [],
   "source": []
  }
 ],
 "metadata": {
  "kernelspec": {
   "display_name": "Python 3 (ipykernel)",
   "language": "python",
   "name": "python3"
  },
  "language_info": {
   "codemirror_mode": {
    "name": "ipython",
    "version": 3
   },
   "file_extension": ".py",
   "mimetype": "text/x-python",
   "name": "python",
   "nbconvert_exporter": "python",
   "pygments_lexer": "ipython3",
   "version": "3.9.7"
  }
 },
 "nbformat": 4,
 "nbformat_minor": 4
}
